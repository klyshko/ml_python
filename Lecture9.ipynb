{
 "cells": [
  {
   "cell_type": "markdown",
   "metadata": {},
   "source": [
    "---\n",
    "# Lecture 8: Introduction to Machine Learning in Python\n",
    "---\n",
    "\n",
    "## 1. Introduction <a id='l_overview'></a>\n",
    "\n",
    "This lecture was created as part of a CPS Teaching Fellowship. We are introducing a novel approach to study advanced scientific programming. The goal of today's lecture is to present Machine Learning approach. We will learn about the most typical machine learning problems, such as dimensionality reduction and classification, and how to approach these using the Python programmming language. We will also consider how ML can be used in computational biophsyics using the example from lecture #7. These are the important concepts that we will cover:\n",
    "\n",
    "- [Machine Learning](#l_ml)\n",
    "- [Data sets](#l_ds)\n",
    "- [Dimensionality reduction](#l_dr) \n",
    "- [Principal Component Analysis (PCA)](#l_pca)\n",
    "- [Multidimensional Scaling (MDS)](#l_mds)\n",
    "- [Other dimensionality reduction techniques](#l_other)\n",
    "- [Classification](#l_class)\n",
    "\n",
    "\n",
    "## 2. Machine Learning <a id='l_ml'></a>\n",
    "\n",
    "Below is the outline of the field with specific algorithms:\n",
    "\n",
    "1. **Unsupervised Learning** - there is no correct input/output pair \n",
    "    - *Clustering*\n",
    "        - K-Means\n",
    "        - Hierarchical\n",
    "        - Spectral\n",
    "    - *Dimensionality reduction*\n",
    "        - Principal Components Analysis (PCA)\n",
    "        - Multidimensional Scaling (MDS)\n",
    "        - Stochastic Neighbour Embedding (t-SNE)\n",
    "        - Uniform Manifold Approximation and Projection (UMAP)\n",
    "        \n",
    "        \n",
    "2. **Supervised Learning** - there is a correct input/output pair\n",
    "    - *Regression*\n",
    "        - Curve fitting\n",
    "        - Linear regression \n",
    "    - *Classification*\n",
    "        - Linear Classifiers (Support Vector Machines, Logistic regression)\n",
    "        - Decision Trees\n",
    "        - Neural Networks\n",
    "        \n",
    "        \n",
    "3. **Reinforcement Learning** - is an area concerned with how software agents have to take actions in an environment so as to maximize some cumulative reward\n",
    "\n"
   ]
  },
  {
   "cell_type": "markdown",
   "metadata": {},
   "source": [
    "## 3. Generating of data sets\n",
    "\n",
    "Setup:\n",
    "- Suppose one has $p$ samples of N-dimensional data points, $x_i\\in\\mathbb{R}^N$\n",
    "- Store these samples columnwise as $X\\in\\mathbb{R}^{p\\,\\times\\,N}$\n",
    "- We call this the original data matrix, or simply the data\n",
    "- Assumption: there is a meaningful metric (e.g. Euclidean distance) on the data space (high dim)\n",
    "- Assumption: there is a meaningful metric (e.g. Euclidean distance) on the latent space (low dim)"
   ]
  },
  {
   "cell_type": "code",
   "execution_count": 2,
   "metadata": {},
   "outputs": [],
   "source": [
    "import numpy as np\n",
    "import matplotlib.pyplot as plt\n",
    "\n",
    "#from sklearn.decomposition import PCA\n",
    "#from sklearn.manifold import TSNE, MDS"
   ]
  },
  {
   "cell_type": "markdown",
   "metadata": {},
   "source": [
    "### Generate linear data with noise ( 2-dimensional data set):"
   ]
  },
  {
   "cell_type": "code",
   "execution_count": 46,
   "metadata": {},
   "outputs": [
    {
     "data": {
      "image/png": "[encoded data removed]",
      "text/plain": [
       "<Figure size 432x288 with 1 Axes>"
      ]
     },
     "metadata": {},
     "output_type": "display_data"
    }
   ],
   "source": [
    "raw_data_x = np.random.uniform(0,10, size=(100,))\n",
    "raw_data_y = 0.5 * raw_data_x + np.random.normal(0,1,len(raw_data_x))\n",
    "\n",
    "X_2d = np.empty((100, 2))\n",
    "X_2d[:,0] = raw_data_x\n",
    "X_2d[:,1] = raw_data_y\n",
    "\n",
    "#plt.figure(figsize=(12,8))\n",
    "plt.scatter(X_2d[:,0], X_2d[:,1])\n",
    "plt.xlim(-1, 11)\n",
    "plt.ylim(-2, 7)\n",
    "plt.show()"
   ]
  },
  {
   "cell_type": "markdown",
   "metadata": {},
   "source": [
    "Let's look how the data looks like (first 10 points):"
   ]
  },
  {
   "cell_type": "code",
   "execution_count": 23,
   "metadata": {},
   "outputs": [
    {
     "data": {
      "text/plain": [
       "array([[ 8.83148522,  5.40151469],\n",
       "       [ 4.66857357,  2.97438139],\n",
       "       [ 7.76249897,  5.74402683],\n",
       "       [ 1.06237237,  0.63032347],\n",
       "       [ 4.75154919,  3.19299343],\n",
       "       [ 2.15087831, -1.16377865],\n",
       "       [ 2.26044671, -0.20083862],\n",
       "       [ 1.82249332,  0.52899036],\n",
       "       [ 2.98893772,  1.18472349],\n",
       "       [ 8.45207754,  6.7837327 ]])"
      ]
     },
     "execution_count": 23,
     "metadata": {},
     "output_type": "execute_result"
    }
   ],
   "source": [
    "X_2d[:10]"
   ]
  },
  {
   "cell_type": "markdown",
   "metadata": {},
   "source": [
    "### Load some high-dimensional data from the [MNIST](https://en.wikipedia.org/wiki/MNIST_database) dataset. \n",
    "![](pics/mnist.png)"
   ]
  },
  {
   "cell_type": "code",
   "execution_count": 41,
   "metadata": {},
   "outputs": [
    {
     "data": {
      "text/plain": [
       "((60000, 28, 28), (10000, 28, 28), (60000,), (10000,))"
      ]
     },
     "execution_count": 41,
     "metadata": {},
     "output_type": "execute_result"
    }
   ],
   "source": [
    "from keras.datasets import mnist\n",
    "(x_train, y_train), (x_test, y_test) = mnist.load_data()\n",
    "x_train.shape, x_test.shape, y_train.shape, y_test.shape"
   ]
  },
  {
   "cell_type": "markdown",
   "metadata": {},
   "source": [
    "### Let's take only 1000 data points"
   ]
  },
  {
   "cell_type": "code",
   "execution_count": 42,
   "metadata": {},
   "outputs": [],
   "source": [
    "X = x_test[:1000]\n",
    "Y = y_test[:1000]"
   ]
  },
  {
   "cell_type": "code",
   "execution_count": 43,
   "metadata": {},
   "outputs": [
    {
     "data": {
      "text/plain": [
       "<matplotlib.image.AxesImage at 0x7f80ca797a58>"
      ]
     },
     "execution_count": 43,
     "metadata": {},
     "output_type": "execute_result"
    },
    {
     "data": {
      "image/png": "[encoded data removed]",
      "text/plain": [
       "<Figure size 432x288 with 1 Axes>"
      ]
     },
     "metadata": {},
     "output_type": "display_data"
    }
   ],
   "source": [
    "plt.imshow(X[567], cmap='gray')"
   ]
  },
  {
   "cell_type": "markdown",
   "metadata": {},
   "source": [
    "### We want to convert each data point (picture with a handwritten digit) to a vector which dimensionality is 28x28 = 784"
   ]
  },
  {
   "cell_type": "code",
   "execution_count": 44,
   "metadata": {},
   "outputs": [
    {
     "data": {
      "text/plain": [
       "(784,)"
      ]
     },
     "execution_count": 44,
     "metadata": {},
     "output_type": "execute_result"
    }
   ],
   "source": [
    "X = X.reshape(1000, 784)\n",
    "X[567].shape"
   ]
  },
  {
   "cell_type": "markdown",
   "metadata": {},
   "source": [
    "**Summary** - we have two data sets:\n",
    "- Two-dimensional data set with 100 points\n",
    "- 768-dimensional data set with 1000 points"
   ]
  },
  {
   "cell_type": "markdown",
   "metadata": {},
   "source": [
    "## 4. Dimensionality reduction <a id='l_dr'></a>\n",
    "Dimensionality reduction is the process of reducing the number of dimensions under consideration by obtaining a set of principal variables. You can select a subset of original variables, or find a linear or nonlinear combination of features, or make a projection to lower dimensions. \n",
    "\n",
    "![](pics/dr.png)\n",
    "\n",
    "\n",
    "Methods:\n",
    "- **Principal Components Analysis (PCA)** - linear method to extract dimensions with the highest variance\n",
    "- **Multidimensional Scaling (MDS)** - nonlinear method to project in lower dimensions by saving pairwise distances\n",
    "- **Stochastic Neighbour Embedding (t-SNE)** - making an embedding in lower dimensions by conserving distribution of distances \n",
    "- **Uniform Manifold Approximation and Projection (UMAP)** - projecting the data on manifold into fewer dimensions"
   ]
  },
  {
   "cell_type": "markdown",
   "metadata": {},
   "source": [
    "## 4. Principal Component Analysis <a id='l_dr'></a>\n",
    "\n",
    "**Math**:\n",
    "\n",
    "- PCA goal: Find orthogonal transformation $W$ of centered data $X_c$ (i.e. $Y=WX_c$) such that variance along subsequent components is maximized (i.e. most variance along first, etc.); note $X_c$ is $p \\times N$, $W$ is $N \\times N$, $Y$ is $p \\times N$, principal components are the columns of $W$\n",
    "- principal components of $X_c$ are typically found via eigendecomposition of covariance matrix $X_c^T X_c$ \n",
    "- the PCA embedding is $Y=U^T X_c$, where $U$ stores columnwise eigenvectors of $X_c^T X_c$ in decreasing order (by eigenvalue)\n",
    "\n",
    "### Compute principle components via eigenvectors of covariance matrix\n",
    "\n",
    "1. Center data, i.e. first subtract the mean from the data\n",
    "2. Compute the covariance matrix\n",
    "3. Compute eigenvectors and order them in terms of decreasing eigenvalues\n",
    "4. Transform the data using these eigenvectors\n",
    "5. Compare to library PCA implementation"
   ]
  },
  {
   "cell_type": "code",
   "execution_count": 49,
   "metadata": {},
   "outputs": [
    {
     "data": {
      "image/png": "[encoded data removed]",
      "text/plain": [
       "<Figure size 432x288 with 1 Axes>"
      ]
     },
     "metadata": {},
     "output_type": "display_data"
    }
   ],
   "source": [
    "# For data set # 1:\n",
    "\n",
    "# step 1\n",
    "X_2d_centered = X_2d - np.mean(X_2d, axis=0)\n",
    "plt.scatter(X_2d_centered[:,0], X_2d_centered[:,1])\n",
    "plt.ylim((-4,4))\n",
    "plt.xlim((-6,6))\n",
    "plt.show()"
   ]
  },
  {
   "cell_type": "markdown",
   "metadata": {},
   "source": [
    "### We see that the data is now centered on the origin.\n",
    "### Now compute the transformation"
   ]
  },
  {
   "cell_type": "code",
   "execution_count": 55,
   "metadata": {},
   "outputs": [
    {
     "name": "stdout",
     "output_type": "stream",
     "text": [
      "Covariance matrix:\n",
      "[[871.15196633 369.3509381 ]\n",
      " [369.3509381  253.0717883 ]]\n",
      "\n",
      "Eigenvalues:\n",
      "[1043.69872524   80.52502939]\n",
      "\n",
      "Eigenvectors (columns)\n",
      "[[ 0.90601105 -0.42325402]\n",
      " [ 0.42325402  0.90601105]]\n",
      "\n",
      "Check that eigenvectors are orthogonal (<w1,w2>=0):\n",
      "0.0\n"
     ]
    }
   ],
   "source": [
    "# Step 2.\n",
    "Cov = np.dot(np.transpose(X_2d_centered), X_2d_centered)\n",
    "print(\"Covariance matrix:\")\n",
    "print(Cov)\n",
    "\n",
    "#Step 3,4\n",
    "Eigvals, W = np.linalg.eig(Cov)\n",
    "print(\"\\nEigenvalues:\")\n",
    "print(Eigvals)\n",
    "print(\"\\nEigenvectors (columns)\")\n",
    "print(W)\n",
    "print(\"\\nCheck that eigenvectors are orthogonal (<w1,w2>=0):\")\n",
    "print(np.dot(W[:,0],W[:,1]))"
   ]
  },
  {
   "cell_type": "markdown",
   "metadata": {},
   "source": [
    "### Let's plot the eigenvectors in comparison to the data"
   ]
  },
  {
   "cell_type": "code",
   "execution_count": 64,
   "metadata": {},
   "outputs": [
    {
     "data": {
      "image/png": "[encoded data removed]",
      "text/plain": [
       "<Figure size 432x288 with 1 Axes>"
      ]
     },
     "metadata": {},
     "output_type": "display_data"
    }
   ],
   "source": [
    "plt.scatter(X_2d_centered[:,0], X_2d_centered[:,1])\n",
    "plt.plot([0, W[0][1]*3],[0, W[1][1]*3],'r',linewidth=3)\n",
    "plt.plot([0, W[0][0]*5],[0, W[1][0]*5],'g',linewidth=3)\n",
    "plt.ylim((-6,6))\n",
    "plt.xlim((-8,8))\n",
    "plt.show()"
   ]
  },
  {
   "cell_type": "markdown",
   "metadata": {},
   "source": [
    "### Now we will apply the transformation to the data and plot the data in the new space. We flip the matrix W and corresponding eigenvalues so that they are ordered the same way as in the theory."
   ]
  },
  {
   "cell_type": "code",
   "execution_count": 66,
   "metadata": {},
   "outputs": [
    {
     "data": {
      "image/png": "[encoded data removed]",
      "text/plain": [
       "<Figure size 432x288 with 1 Axes>"
      ]
     },
     "metadata": {},
     "output_type": "display_data"
    }
   ],
   "source": [
    "W = np.fliplr(W)\n",
    "Eigvals = Eigvals[::-1]\n",
    "X_2d_transformed = np.dot(X_2d_centered, W)\n",
    "plt.scatter(X_2d_transformed[:,0], X_2d_transformed[:,1])\n",
    "plt.ylim((-3,3))\n",
    "plt.xlim((-8,8))\n",
    "plt.show()"
   ]
  },
  {
   "cell_type": "code",
   "execution_count": null,
   "metadata": {},
   "outputs": [],
   "source": []
  }
 ],
 "metadata": {
  "kernelspec": {
   "display_name": "Python 3",
   "language": "python",
   "name": "python3"
  },
  "language_info": {
   "codemirror_mode": {
    "name": "ipython",
    "version": 3
   },
   "file_extension": ".py",
   "mimetype": "text/x-python",
   "name": "python",
   "nbconvert_exporter": "python",
   "pygments_lexer": "ipython3",
   "version": "3.6.8"
  }
 },
 "nbformat": 4,
 "nbformat_minor": 2
}
